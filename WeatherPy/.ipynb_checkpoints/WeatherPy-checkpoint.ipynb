{
 "cells": [
  {
   "cell_type": "markdown",
   "metadata": {},
   "source": [
    "### WeatherPy"
   ]
  },
  {
   "cell_type": "code",
   "execution_count": 34,
   "metadata": {
    "scrolled": true
   },
   "outputs": [],
   "source": [
    "# Dependencies and Setup\n",
    "import matplotlib.pyplot as plt\n",
    "import pandas as pd\n",
    "import numpy as np\n",
    "import requests\n",
    "import time\n",
    "from scipy.stats import linregress\n",
    "\n",
    "# Import API key\n",
    "from api_keys import weather_api_key\n",
    "\n",
    "# Incorporated citipy to determine city based on latitude and longitude\n",
    "from citipy import citipy\n",
    "\n",
    "# Output File (CSV)\n",
    "output_data_file = \"output_data/cities.csv\"\n",
    "\n",
    "# Range of latitudes and longitudes\n",
    "lat_range = (-90, 90)\n",
    "lng_range = (-180, 180)"
   ]
  },
  {
   "cell_type": "markdown",
   "metadata": {},
   "source": [
    "### Generate Cities List"
   ]
  },
  {
   "cell_type": "code",
   "execution_count": 35,
   "metadata": {},
   "outputs": [
    {
     "data": {
      "text/plain": [
       "649"
      ]
     },
     "execution_count": 35,
     "metadata": {},
     "output_type": "execute_result"
    }
   ],
   "source": [
    "# List for holding lat_lngs and cities\n",
    "lat_lngs = []\n",
    "cities = []\n",
    "\n",
    "# Create a set of random lat and lng combinations\n",
    "lats = np.random.uniform(lat_range[0], lat_range[1], size=1500)\n",
    "lngs = np.random.uniform(lng_range[0], lng_range[1], size=1500)\n",
    "lat_lngs = zip(lats, lngs)\n",
    "\n",
    "# Identify nearest city for each lat, lng combination\n",
    "for lat_lng in lat_lngs:\n",
    "    city = citipy.nearest_city(lat_lng[0], lat_lng[1]).city_name\n",
    "    \n",
    "    # If the city is unique, then add it to a our cities list\n",
    "    if city not in cities:\n",
    "        cities.append(city)\n",
    "\n",
    "# Print the city count to confirm sufficient count\n",
    "len(cities)"
   ]
  },
  {
   "cell_type": "markdown",
   "metadata": {},
   "source": [
    "### Perform API Calls\n",
    "* Perform a weather check on each city using a series of successive API calls.\n",
    "* Include a print log of each city as it'sbeing processed (with the city number and city name)."
   ]
  },
  {
   "cell_type": "code",
   "execution_count": 48,
   "metadata": {},
   "outputs": [
    {
     "name": "stdout",
     "output_type": "stream",
     "text": [
      "Processing Record 1: | London\n",
      "Processing Record 2: | Paris\n",
      "Processing Record 3: | New York\n",
      "Processing Record 4: | Darwin\n",
      "The city cannot be processed\n"
     ]
    }
   ],
   "source": [
    "# Save config information\n",
    "url = \"http://api.openweathermap.org/data/2.5/weather?\"\n",
    "units = \"standard\"\n",
    "# Just for testing use limited cities\n",
    "cities = [ \"London\", \"Paris\", \"New York\", \"Darwin\", \"Bumblebazooooooooz\"]\n",
    "# Build query URL\n",
    "query_url = f\"{url}appid={weather_api_key}&units={units}&q=\"\n",
    "\n",
    "# Set up lists to hold reponse info\n",
    "temp = []\n",
    "humidity = []\n",
    "clouds = []\n",
    "wind = []\n",
    "date = []\n",
    "#cityid = []\n",
    "country = []\n",
    "newcity = []\n",
    "newlat = []\n",
    "newlng = []\n",
    "count = 1\n",
    "# city  = \"butaritari\"\n",
    "# Loop through the list of cities and perform a request for data on each\n",
    "for city in cities:\n",
    "    try:\n",
    "        response = requests.get(query_url + city).json()\n",
    "        temp.append(response['main']['temp_max'])\n",
    "        humidity.append(response['main']['humidity'])\n",
    "        clouds.append(response['clouds']['all'])\n",
    "        wind.append(response['wind']['speed'])\n",
    "        date.append(response['dt'])\n",
    "        country.append(response['sys']['country'])\n",
    "        #cityid.append(count)\n",
    "        newcity.append(city)\n",
    "        newlat.append(response['coord']['lat'])\n",
    "        newlng.append(response['coord']['lon'])\n",
    "        print(f'Processing Record {count}: | {city}')\n",
    "        count += 1\n",
    "    except:\n",
    "        print(f'The city cannot be processed')\n",
    "        pass\n"
   ]
  },
  {
   "cell_type": "markdown",
   "metadata": {},
   "source": [
    "### Convert Raw Data to DataFrame\n",
    "* Export the city data into a .csv.\n",
    "* Display the DataFrame"
   ]
  },
  {
   "cell_type": "code",
   "execution_count": 55,
   "metadata": {},
   "outputs": [
    {
     "data": {
      "text/html": [
       "<div>\n",
       "<style scoped>\n",
       "    .dataframe tbody tr th:only-of-type {\n",
       "        vertical-align: middle;\n",
       "    }\n",
       "\n",
       "    .dataframe tbody tr th {\n",
       "        vertical-align: top;\n",
       "    }\n",
       "\n",
       "    .dataframe thead th {\n",
       "        text-align: right;\n",
       "    }\n",
       "</style>\n",
       "<table border=\"1\" class=\"dataframe\">\n",
       "  <thead>\n",
       "    <tr style=\"text-align: right;\">\n",
       "      <th></th>\n",
       "      <th>City</th>\n",
       "      <th>Cloudiness</th>\n",
       "      <th>Country</th>\n",
       "      <th>Date</th>\n",
       "      <th>Humidity</th>\n",
       "      <th>Lat</th>\n",
       "      <th>Lng</th>\n",
       "      <th>Max_Temp</th>\n",
       "      <th>Wind Speed</th>\n",
       "    </tr>\n",
       "  </thead>\n",
       "  <tbody>\n",
       "    <tr>\n",
       "      <th>0</th>\n",
       "      <td>London</td>\n",
       "      <td>92</td>\n",
       "      <td>GB</td>\n",
       "      <td>1608066076</td>\n",
       "      <td>94</td>\n",
       "      <td>51.51</td>\n",
       "      <td>-0.13</td>\n",
       "      <td>282.04</td>\n",
       "      <td>3.11</td>\n",
       "    </tr>\n",
       "    <tr>\n",
       "      <th>1</th>\n",
       "      <td>Paris</td>\n",
       "      <td>20</td>\n",
       "      <td>FR</td>\n",
       "      <td>1608065993</td>\n",
       "      <td>93</td>\n",
       "      <td>48.85</td>\n",
       "      <td>2.35</td>\n",
       "      <td>281.48</td>\n",
       "      <td>2.60</td>\n",
       "    </tr>\n",
       "    <tr>\n",
       "      <th>2</th>\n",
       "      <td>New York</td>\n",
       "      <td>1</td>\n",
       "      <td>US</td>\n",
       "      <td>1608066003</td>\n",
       "      <td>38</td>\n",
       "      <td>40.71</td>\n",
       "      <td>-74.01</td>\n",
       "      <td>278.15</td>\n",
       "      <td>4.10</td>\n",
       "    </tr>\n",
       "    <tr>\n",
       "      <th>3</th>\n",
       "      <td>Darwin</td>\n",
       "      <td>20</td>\n",
       "      <td>AU</td>\n",
       "      <td>1608065825</td>\n",
       "      <td>94</td>\n",
       "      <td>-12.46</td>\n",
       "      <td>130.84</td>\n",
       "      <td>298.15</td>\n",
       "      <td>0.35</td>\n",
       "    </tr>\n",
       "  </tbody>\n",
       "</table>\n",
       "</div>"
      ],
      "text/plain": [
       "       City  Cloudiness Country        Date  Humidity    Lat     Lng  \\\n",
       "0    London          92      GB  1608066076        94  51.51   -0.13   \n",
       "1     Paris          20      FR  1608065993        93  48.85    2.35   \n",
       "2  New York           1      US  1608066003        38  40.71  -74.01   \n",
       "3    Darwin          20      AU  1608065825        94 -12.46  130.84   \n",
       "\n",
       "   Max_Temp  Wind Speed  \n",
       "0    282.04        3.11  \n",
       "1    281.48        2.60  \n",
       "2    278.15        4.10  \n",
       "3    298.15        0.35  "
      ]
     },
     "execution_count": 55,
     "metadata": {},
     "output_type": "execute_result"
    }
   ],
   "source": [
    "# Create DataFrame\n",
    "WeatherData = pd.DataFrame({\"City\": newcity,\n",
    "                          \"Cloudiness\": clouds,\n",
    "                          \"Country\": country,\n",
    "                          \"Date\": date,\n",
    "                          \"Humidity\": humidity,\n",
    "                          \"Lat\": newlat,\n",
    "                          \"Lng\": newlng,\n",
    "                          \"Max_Temp\": temp,\n",
    "                          \"Wind Speed\": wind})\n",
    "\n",
    "#Export as CSV\n",
    "WeatherData.to_csv(output_data_file)\n",
    "\n",
    "# Display DataFrame\n",
    "WeatherData"
   ]
  },
  {
   "cell_type": "code",
   "execution_count": 56,
   "metadata": {},
   "outputs": [
    {
     "data": {
      "text/html": [
       "<div>\n",
       "<style scoped>\n",
       "    .dataframe tbody tr th:only-of-type {\n",
       "        vertical-align: middle;\n",
       "    }\n",
       "\n",
       "    .dataframe tbody tr th {\n",
       "        vertical-align: top;\n",
       "    }\n",
       "\n",
       "    .dataframe thead th {\n",
       "        text-align: right;\n",
       "    }\n",
       "</style>\n",
       "<table border=\"1\" class=\"dataframe\">\n",
       "  <thead>\n",
       "    <tr style=\"text-align: right;\">\n",
       "      <th></th>\n",
       "      <th>Cloudiness</th>\n",
       "      <th>Date</th>\n",
       "      <th>Humidity</th>\n",
       "      <th>Lat</th>\n",
       "      <th>Lng</th>\n",
       "      <th>Max_Temp</th>\n",
       "      <th>Wind Speed</th>\n",
       "    </tr>\n",
       "  </thead>\n",
       "  <tbody>\n",
       "    <tr>\n",
       "      <th>count</th>\n",
       "      <td>4.00000</td>\n",
       "      <td>4.000000e+00</td>\n",
       "      <td>4.000000</td>\n",
       "      <td>4.000000</td>\n",
       "      <td>4.000000</td>\n",
       "      <td>4.00000</td>\n",
       "      <td>4.000000</td>\n",
       "    </tr>\n",
       "    <tr>\n",
       "      <th>mean</th>\n",
       "      <td>33.25000</td>\n",
       "      <td>1.608066e+09</td>\n",
       "      <td>79.750000</td>\n",
       "      <td>32.152500</td>\n",
       "      <td>14.762500</td>\n",
       "      <td>284.95500</td>\n",
       "      <td>2.540000</td>\n",
       "    </tr>\n",
       "    <tr>\n",
       "      <th>std</th>\n",
       "      <td>40.17773</td>\n",
       "      <td>1.061552e+02</td>\n",
       "      <td>27.837325</td>\n",
       "      <td>30.094436</td>\n",
       "      <td>85.108557</td>\n",
       "      <td>8.96268</td>\n",
       "      <td>1.587262</td>\n",
       "    </tr>\n",
       "    <tr>\n",
       "      <th>min</th>\n",
       "      <td>1.00000</td>\n",
       "      <td>1.608066e+09</td>\n",
       "      <td>38.000000</td>\n",
       "      <td>-12.460000</td>\n",
       "      <td>-74.010000</td>\n",
       "      <td>278.15000</td>\n",
       "      <td>0.350000</td>\n",
       "    </tr>\n",
       "    <tr>\n",
       "      <th>25%</th>\n",
       "      <td>15.25000</td>\n",
       "      <td>1.608066e+09</td>\n",
       "      <td>79.250000</td>\n",
       "      <td>27.417500</td>\n",
       "      <td>-18.600000</td>\n",
       "      <td>280.64750</td>\n",
       "      <td>2.037500</td>\n",
       "    </tr>\n",
       "    <tr>\n",
       "      <th>50%</th>\n",
       "      <td>20.00000</td>\n",
       "      <td>1.608066e+09</td>\n",
       "      <td>93.500000</td>\n",
       "      <td>44.780000</td>\n",
       "      <td>1.110000</td>\n",
       "      <td>281.76000</td>\n",
       "      <td>2.855000</td>\n",
       "    </tr>\n",
       "    <tr>\n",
       "      <th>75%</th>\n",
       "      <td>38.00000</td>\n",
       "      <td>1.608066e+09</td>\n",
       "      <td>94.000000</td>\n",
       "      <td>49.515000</td>\n",
       "      <td>34.472500</td>\n",
       "      <td>286.06750</td>\n",
       "      <td>3.357500</td>\n",
       "    </tr>\n",
       "    <tr>\n",
       "      <th>max</th>\n",
       "      <td>92.00000</td>\n",
       "      <td>1.608066e+09</td>\n",
       "      <td>94.000000</td>\n",
       "      <td>51.510000</td>\n",
       "      <td>130.840000</td>\n",
       "      <td>298.15000</td>\n",
       "      <td>4.100000</td>\n",
       "    </tr>\n",
       "  </tbody>\n",
       "</table>\n",
       "</div>"
      ],
      "text/plain": [
       "       Cloudiness          Date   Humidity        Lat         Lng   Max_Temp  \\\n",
       "count     4.00000  4.000000e+00   4.000000   4.000000    4.000000    4.00000   \n",
       "mean     33.25000  1.608066e+09  79.750000  32.152500   14.762500  284.95500   \n",
       "std      40.17773  1.061552e+02  27.837325  30.094436   85.108557    8.96268   \n",
       "min       1.00000  1.608066e+09  38.000000 -12.460000  -74.010000  278.15000   \n",
       "25%      15.25000  1.608066e+09  79.250000  27.417500  -18.600000  280.64750   \n",
       "50%      20.00000  1.608066e+09  93.500000  44.780000    1.110000  281.76000   \n",
       "75%      38.00000  1.608066e+09  94.000000  49.515000   34.472500  286.06750   \n",
       "max      92.00000  1.608066e+09  94.000000  51.510000  130.840000  298.15000   \n",
       "\n",
       "       Wind Speed  \n",
       "count    4.000000  \n",
       "mean     2.540000  \n",
       "std      1.587262  \n",
       "min      0.350000  \n",
       "25%      2.037500  \n",
       "50%      2.855000  \n",
       "75%      3.357500  \n",
       "max      4.100000  "
      ]
     },
     "execution_count": 56,
     "metadata": {},
     "output_type": "execute_result"
    }
   ],
   "source": [
    "WeatherData.describe()"
   ]
  },
  {
   "cell_type": "markdown",
   "metadata": {},
   "source": [
    "## Inspect the data and remove the cities where the humidity > 100%.\n",
    "----\n",
    "Skip this step if there are no cities that have humidity > 100%. "
   ]
  },
  {
   "cell_type": "code",
   "execution_count": 57,
   "metadata": {},
   "outputs": [
    {
     "data": {
      "text/html": [
       "<div>\n",
       "<style scoped>\n",
       "    .dataframe tbody tr th:only-of-type {\n",
       "        vertical-align: middle;\n",
       "    }\n",
       "\n",
       "    .dataframe tbody tr th {\n",
       "        vertical-align: top;\n",
       "    }\n",
       "\n",
       "    .dataframe thead th {\n",
       "        text-align: right;\n",
       "    }\n",
       "</style>\n",
       "<table border=\"1\" class=\"dataframe\">\n",
       "  <thead>\n",
       "    <tr style=\"text-align: right;\">\n",
       "      <th></th>\n",
       "      <th>Cloudiness</th>\n",
       "      <th>Date</th>\n",
       "      <th>Humidity</th>\n",
       "      <th>Lat</th>\n",
       "      <th>Lng</th>\n",
       "      <th>Max_Temp</th>\n",
       "      <th>Wind Speed</th>\n",
       "    </tr>\n",
       "  </thead>\n",
       "  <tbody>\n",
       "    <tr>\n",
       "      <th>count</th>\n",
       "      <td>4.00000</td>\n",
       "      <td>4.000000e+00</td>\n",
       "      <td>4.000000</td>\n",
       "      <td>4.000000</td>\n",
       "      <td>4.000000</td>\n",
       "      <td>4.00000</td>\n",
       "      <td>4.000000</td>\n",
       "    </tr>\n",
       "    <tr>\n",
       "      <th>mean</th>\n",
       "      <td>33.25000</td>\n",
       "      <td>1.608066e+09</td>\n",
       "      <td>79.750000</td>\n",
       "      <td>32.152500</td>\n",
       "      <td>14.762500</td>\n",
       "      <td>284.95500</td>\n",
       "      <td>2.540000</td>\n",
       "    </tr>\n",
       "    <tr>\n",
       "      <th>std</th>\n",
       "      <td>40.17773</td>\n",
       "      <td>1.061552e+02</td>\n",
       "      <td>27.837325</td>\n",
       "      <td>30.094436</td>\n",
       "      <td>85.108557</td>\n",
       "      <td>8.96268</td>\n",
       "      <td>1.587262</td>\n",
       "    </tr>\n",
       "    <tr>\n",
       "      <th>min</th>\n",
       "      <td>1.00000</td>\n",
       "      <td>1.608066e+09</td>\n",
       "      <td>38.000000</td>\n",
       "      <td>-12.460000</td>\n",
       "      <td>-74.010000</td>\n",
       "      <td>278.15000</td>\n",
       "      <td>0.350000</td>\n",
       "    </tr>\n",
       "    <tr>\n",
       "      <th>25%</th>\n",
       "      <td>15.25000</td>\n",
       "      <td>1.608066e+09</td>\n",
       "      <td>79.250000</td>\n",
       "      <td>27.417500</td>\n",
       "      <td>-18.600000</td>\n",
       "      <td>280.64750</td>\n",
       "      <td>2.037500</td>\n",
       "    </tr>\n",
       "    <tr>\n",
       "      <th>50%</th>\n",
       "      <td>20.00000</td>\n",
       "      <td>1.608066e+09</td>\n",
       "      <td>93.500000</td>\n",
       "      <td>44.780000</td>\n",
       "      <td>1.110000</td>\n",
       "      <td>281.76000</td>\n",
       "      <td>2.855000</td>\n",
       "    </tr>\n",
       "    <tr>\n",
       "      <th>75%</th>\n",
       "      <td>38.00000</td>\n",
       "      <td>1.608066e+09</td>\n",
       "      <td>94.000000</td>\n",
       "      <td>49.515000</td>\n",
       "      <td>34.472500</td>\n",
       "      <td>286.06750</td>\n",
       "      <td>3.357500</td>\n",
       "    </tr>\n",
       "    <tr>\n",
       "      <th>max</th>\n",
       "      <td>92.00000</td>\n",
       "      <td>1.608066e+09</td>\n",
       "      <td>94.000000</td>\n",
       "      <td>51.510000</td>\n",
       "      <td>130.840000</td>\n",
       "      <td>298.15000</td>\n",
       "      <td>4.100000</td>\n",
       "    </tr>\n",
       "  </tbody>\n",
       "</table>\n",
       "</div>"
      ],
      "text/plain": [
       "       Cloudiness          Date   Humidity        Lat         Lng   Max_Temp  \\\n",
       "count     4.00000  4.000000e+00   4.000000   4.000000    4.000000    4.00000   \n",
       "mean     33.25000  1.608066e+09  79.750000  32.152500   14.762500  284.95500   \n",
       "std      40.17773  1.061552e+02  27.837325  30.094436   85.108557    8.96268   \n",
       "min       1.00000  1.608066e+09  38.000000 -12.460000  -74.010000  278.15000   \n",
       "25%      15.25000  1.608066e+09  79.250000  27.417500  -18.600000  280.64750   \n",
       "50%      20.00000  1.608066e+09  93.500000  44.780000    1.110000  281.76000   \n",
       "75%      38.00000  1.608066e+09  94.000000  49.515000   34.472500  286.06750   \n",
       "max      92.00000  1.608066e+09  94.000000  51.510000  130.840000  298.15000   \n",
       "\n",
       "       Wind Speed  \n",
       "count    4.000000  \n",
       "mean     2.540000  \n",
       "std      1.587262  \n",
       "min      0.350000  \n",
       "25%      2.037500  \n",
       "50%      2.855000  \n",
       "75%      3.357500  \n",
       "max      4.100000  "
      ]
     },
     "execution_count": 57,
     "metadata": {},
     "output_type": "execute_result"
    }
   ],
   "source": [
    "WeatherData = WeatherData[WeatherData[\"Humidity\"] <= 100]\n",
    "WeatherData.describe()"
   ]
  },
  {
   "cell_type": "markdown",
   "metadata": {},
   "source": [
    "## Plotting the Data\n",
    "* Use proper labeling of the plots using plot titles (including date of analysis) and axes labels.\n",
    "* Save the plotted figures as .pngs."
   ]
  },
  {
   "cell_type": "markdown",
   "metadata": {},
   "source": [
    "## Latitude vs. Temperature Plot"
   ]
  },
  {
   "cell_type": "code",
   "execution_count": 66,
   "metadata": {},
   "outputs": [
    {
     "data": {
      "text/plain": [
       "Text(0, 0.5, 'Max Temperature (F)')"
      ]
     },
     "execution_count": 66,
     "metadata": {},
     "output_type": "execute_result"
    },
    {
     "data": {
      "image/png": "[encoded data removed]",
      "text/plain": [
       "<Figure size 432x288 with 1 Axes>"
      ]
     },
     "metadata": {
      "needs_background": "light"
     },
     "output_type": "display_data"
    }
   ],
   "source": [
    "# Time code Unix...consider update\n",
    "lattemp = WeatherData.plot(kind=\"scatter\", x = 'Lat', y = 'Max_Temp',title = \"City Latitude vs Max Temperature (12/15/2020)\", grid = True)\n",
    "lattemp.set_xlabel(\"Latitude\")\n",
    "lattemp.set_ylabel(\"Max Temperature (F)\")"
   ]
  },
  {
   "cell_type": "markdown",
   "metadata": {},
   "source": [
    "## Latitude vs. Humidity Plot"
   ]
  },
  {
   "cell_type": "code",
   "execution_count": 69,
   "metadata": {},
   "outputs": [
    {
     "data": {
      "text/plain": [
       "Text(0, 0.5, 'Humidity (%)')"
      ]
     },
     "execution_count": 69,
     "metadata": {},
     "output_type": "execute_result"
    },
    {
     "data": {
      "image/png": "[encoded data removed]",
      "text/plain": [
       "<Figure size 432x288 with 1 Axes>"
      ]
     },
     "metadata": {
      "needs_background": "light"
     },
     "output_type": "display_data"
    }
   ],
   "source": [
    "# Time code Unix...consider update\n",
    "lathum = WeatherData.plot(kind=\"scatter\", x = 'Lat', y = 'Humidity',title = \"City Latitude vs Humidity (12/15/2020)\", grid = True)\n",
    "lathum.set_xlabel(\"Latitude\")\n",
    "lathum.set_ylabel(\"Humidity (%)\")"
   ]
  },
  {
   "cell_type": "markdown",
   "metadata": {},
   "source": [
    "## Latitude vs. Cloudiness Plot"
   ]
  },
  {
   "cell_type": "code",
   "execution_count": 71,
   "metadata": {},
   "outputs": [
    {
     "data": {
      "text/plain": [
       "Text(0, 0.5, 'Cloudiness (%)')"
      ]
     },
     "execution_count": 71,
     "metadata": {},
     "output_type": "execute_result"
    },
    {
     "data": {
      "image/png": "[encoded data removed]",
      "text/plain": [
       "<Figure size 432x288 with 1 Axes>"
      ]
     },
     "metadata": {
      "needs_background": "light"
     },
     "output_type": "display_data"
    }
   ],
   "source": [
    "# Time code Unix...consider update\n",
    "latclo = WeatherData.plot(kind=\"scatter\", x = 'Lat', y = 'Cloudiness',title = \"City Latitude vs Cloudiness (12/15/2020)\", grid = True)\n",
    "latclo.set_xlabel(\"Latitude\")\n",
    "latclo.set_ylabel(\"Cloudiness (%)\")"
   ]
  },
  {
   "cell_type": "markdown",
   "metadata": {},
   "source": [
    "## Latitude vs. Wind Speed Plot\n"
   ]
  },
  {
   "cell_type": "code",
   "execution_count": 72,
   "metadata": {},
   "outputs": [
    {
     "data": {
      "text/plain": [
       "Text(0, 0.5, 'Wind Speed (mph)')"
      ]
     },
     "execution_count": 72,
     "metadata": {},
     "output_type": "execute_result"
    },
    {
     "data": {
      "image/png": "[encoded data removed]",
      "text/plain": [
       "<Figure size 432x288 with 1 Axes>"
      ]
     },
     "metadata": {
      "needs_background": "light"
     },
     "output_type": "display_data"
    }
   ],
   "source": [
    "# Time code Unix...consider update\n",
    "latwin = WeatherData.plot(kind=\"scatter\", x = 'Lat', y = 'Wind Speed',title = \"City Latitude vs Wind Speed (12/15/2020)\", grid = True)\n",
    "latwin.set_xlabel(\"Latitude\")\n",
    "latwin.set_ylabel(\"Wind Speed (mph)\")"
   ]
  },
  {
   "cell_type": "markdown",
   "metadata": {},
   "source": [
    "## Linear Regression"
   ]
  },
  {
   "cell_type": "code",
   "execution_count": 74,
   "metadata": {},
   "outputs": [],
   "source": [
    "# Create Hemisphere DFs\n",
    "north = WeatherData[WeatherData[\"Lat\"] > 0]\n",
    "south = WeatherData[WeatherData[\"Lat\"] < 0]"
   ]
  },
  {
   "cell_type": "markdown",
   "metadata": {},
   "source": [
    "####  Northern Hemisphere - Max Temp vs. Latitude Linear Regression"
   ]
  },
  {
   "cell_type": "code",
   "execution_count": 83,
   "metadata": {},
   "outputs": [
    {
     "data": {
      "image/png": "[encoded data removed]",
      "text/plain": [
       "<Figure size 432x288 with 1 Axes>"
      ]
     },
     "metadata": {
      "needs_background": "light"
     },
     "output_type": "display_data"
    }
   ],
   "source": [
    "# Using the Grouped DF above, create variables to be used in correlation and as axes in plotting\n",
    "nlats = north[\"Lat\"]\n",
    "ntemps = north[\"Max_Temp\"]\n",
    "# Using the linregress module from Scipy Stats, assign values to variables related to linear regression\n",
    "(slope, intercept, rvalue, pvalue, stderr) = linregress(nlats,ntemps)\n",
    "# Create variable for the formula serving as y=mx+b for the linear regression\n",
    "regress_values = nlats * slope + intercept\n",
    "# Create variable for the text to explain the y=mx+b formula\n",
    "line_eq = \"y = \" + str(round(slope,2)) + \"x + \" + str(round(intercept,2))\n",
    "# Create scatter plot\n",
    "plt.scatter(nlats,ntemps, s = 60)\n",
    "# Plot the line \"regress_values\" to visually represent the linear regression\n",
    "plt.plot(nlats,regress_values,\"r-\")\n",
    "# Plot the formula of the line in text\n",
    "plt.annotate(line_eq,(50,280),fontsize=15,color=\"red\")\n",
    "# Plot the labels for axes/title\n",
    "plt.xlabel(\"Latitude\")\n",
    "plt.ylabel(\"Max Temperature (F)\")\n",
    "plt.title(\"NH City Latitude vs Max Temperature (12/15/2020)\")\n",
    "# Set the limits of the plot\n",
    "plt.xlim(0,80)\n",
    "\n",
    "# Display the plot\n",
    "plt.show()"
   ]
  },
  {
   "cell_type": "markdown",
   "metadata": {},
   "source": [
    "####  Southern Hemisphere - Max Temp vs. Latitude Linear Regression"
   ]
  },
  {
   "cell_type": "code",
   "execution_count": 85,
   "metadata": {},
   "outputs": [
    {
     "name": "stderr",
     "output_type": "stream",
     "text": [
      "C:\\Users\\littl\\anaconda3\\envs\\PythonData\\lib\\site-packages\\scipy\\stats\\_stats_mstats_common.py:130: RuntimeWarning: invalid value encountered in double_scalars\n",
      "  slope = r_num / ssxm\n",
      "C:\\Users\\littl\\anaconda3\\envs\\PythonData\\lib\\site-packages\\scipy\\stats\\_stats_mstats_common.py:140: RuntimeWarning: invalid value encountered in sqrt\n",
      "  t = r * np.sqrt(df / ((1.0 - r + TINY)*(1.0 + r + TINY)))\n",
      "C:\\Users\\littl\\anaconda3\\envs\\PythonData\\lib\\site-packages\\scipy\\stats\\_stats_mstats_common.py:142: RuntimeWarning: invalid value encountered in double_scalars\n",
      "  sterrest = np.sqrt((1 - r**2) * ssym / ssxm / df)\n"
     ]
    },
    {
     "data": {
      "image/png": "[encoded data removed]",
      "text/plain": [
       "<Figure size 432x288 with 1 Axes>"
      ]
     },
     "metadata": {
      "needs_background": "light"
     },
     "output_type": "display_data"
    }
   ],
   "source": [
    "# Using the Grouped DF above, create variables to be used in correlation and as axes in plotting\n",
    "slats = south[\"Lat\"]\n",
    "stemps = south[\"Max_Temp\"]\n",
    "# Using the linregress module from Scipy Stats, assign values to variables related to linear regression\n",
    "(slope, intercept, rvalue, pvalue, stderr) = linregress(slats,stemps)\n",
    "# Create variable for the formula serving as y=mx+b for the linear regression\n",
    "regress_values = slats * slope + intercept\n",
    "# Create variable for the text to explain the y=mx+b formula\n",
    "line_eq = \"y = \" + str(round(slope,2)) + \"x + \" + str(round(intercept,2))\n",
    "# Create scatter plot\n",
    "plt.scatter(slats,stemps, s = 60)\n",
    "# Plot the line \"regress_values\" to visually represent the linear regression\n",
    "plt.plot(slats,regress_values,\"r-\")\n",
    "# Plot the formula of the line in text\n",
    "plt.annotate(line_eq,(-50,280),fontsize=15,color=\"red\")\n",
    "# Plot the labels for axes/title\n",
    "plt.xlabel(\"Latitude\")\n",
    "plt.ylabel(\"Max Temperature (F)\")\n",
    "plt.title(\"SH City Latitude vs Max Temperature (12/15/2020)\")\n",
    "# Set the limits of the plot\n",
    "plt.xlim(-60,0)\n",
    "\n",
    "# Display the plot\n",
    "plt.show()"
   ]
  },
  {
   "cell_type": "code",
   "execution_count": null,
   "metadata": {},
   "outputs": [],
   "source": []
  }
 ],
 "metadata": {
  "kernelspec": {
   "display_name": "Python [conda env:.conda-PythonData]*",
   "language": "python",
   "name": "myenv"
  },
  "language_info": {
   "codemirror_mode": {
    "name": "ipython",
    "version": 3
   },
   "file_extension": ".py",
   "mimetype": "text/x-python",
   "name": "python",
   "nbconvert_exporter": "python",
   "pygments_lexer": "ipython3",
   "version": "3.8.5"
  }
 },
 "nbformat": 4,
 "nbformat_minor": 4
}
